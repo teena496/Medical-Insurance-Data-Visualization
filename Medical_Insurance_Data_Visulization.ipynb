{
  "nbformat": 4,
  "nbformat_minor": 0,
  "metadata": {
    "colab": {
      "provenance": []
    },
    "kernelspec": {
      "name": "python3",
      "display_name": "Python 3"
    },
    "language_info": {
      "name": "python"
    }
  },
  "cells": [
    {
      "cell_type": "code",
      "execution_count": 1,
      "metadata": {
        "id": "ExF-DSrktnu8"
      },
      "outputs": [],
      "source": [
        "!git config --global user.email \"teena496@outlook.com\"\n",
        "!git config --global user.name \"teena496\""
      ]
    },
    {
      "cell_type": "code",
      "source": [
        "!git init"
      ],
      "metadata": {
        "colab": {
          "base_uri": "https://localhost:8080/"
        },
        "id": "VnYUgGdZt788",
        "outputId": "416359f5-a0e1-4449-96a3-bfe77dd24e27"
      },
      "execution_count": 5,
      "outputs": [
        {
          "output_type": "stream",
          "name": "stdout",
          "text": [
            "Reinitialized existing Git repository in /content/.git/\n"
          ]
        }
      ]
    },
    {
      "cell_type": "code",
      "source": [
        "!git add .\n"
      ],
      "metadata": {
        "id": "AKsUW90kuQzN"
      },
      "execution_count": 6,
      "outputs": []
    },
    {
      "cell_type": "code",
      "source": [
        "!git commit -m \"first commit\""
      ],
      "metadata": {
        "colab": {
          "base_uri": "https://localhost:8080/"
        },
        "id": "-o-c1lwcun_2",
        "outputId": "2b3a12d2-aa01-4edc-900c-115309c55245"
      },
      "execution_count": 7,
      "outputs": [
        {
          "output_type": "stream",
          "name": "stdout",
          "text": [
            "[master (root-commit) 67051b9] first commit\n",
            " 21 files changed, 51025 insertions(+)\n",
            " create mode 100644 .config/.last_opt_in_prompt.yaml\n",
            " create mode 100644 .config/.last_survey_prompt.yaml\n",
            " create mode 100644 .config/.last_update_check.json\n",
            " create mode 100644 .config/active_config\n",
            " create mode 100644 .config/config_sentinel\n",
            " create mode 100644 .config/configurations/config_default\n",
            " create mode 100644 .config/default_configs.db\n",
            " create mode 100644 .config/gce\n",
            " create mode 100644 .config/hidden_gcloud_config_universe_descriptor_data_cache_configs.db\n",
            " create mode 100644 .config/logs/2025.04.04/13.37.18.676175.log\n",
            " create mode 100644 .config/logs/2025.04.04/13.37.39.652154.log\n",
            " create mode 100644 .config/logs/2025.04.04/13.37.48.348005.log\n",
            " create mode 100644 .config/logs/2025.04.04/13.37.49.519497.log\n",
            " create mode 100644 .config/logs/2025.04.04/13.37.58.423894.log\n",
            " create mode 100644 .config/logs/2025.04.04/13.37.59.170918.log\n",
            " create mode 100755 sample_data/README.md\n",
            " create mode 100755 sample_data/anscombe.json\n",
            " create mode 100644 sample_data/california_housing_test.csv\n",
            " create mode 100644 sample_data/california_housing_train.csv\n",
            " create mode 100644 sample_data/mnist_test.csv\n",
            " create mode 100644 sample_data/mnist_train_small.csv\n"
          ]
        }
      ]
    },
    {
      "cell_type": "code",
      "source": [],
      "metadata": {
        "colab": {
          "base_uri": "https://localhost:8080/"
        },
        "id": "rSrZPXbrurhN",
        "outputId": "9210ef58-eef0-4944-85af-dcd473586582"
      },
      "execution_count": 12,
      "outputs": [
        {
          "output_type": "stream",
          "name": "stdout",
          "text": [
            "error: remote origin already exists.\n"
          ]
        }
      ]
    },
    {
      "cell_type": "code",
      "source": [
        "!git remote prune origin\n"
      ],
      "metadata": {
        "id": "mkEimQD9u3x0"
      },
      "execution_count": 13,
      "outputs": []
    },
    {
      "cell_type": "code",
      "source": [],
      "metadata": {
        "colab": {
          "base_uri": "https://localhost:8080/"
        },
        "id": "7_OXL07lvWPY",
        "outputId": "25a0117c-a3ee-472e-c535-42fb0423bdd4"
      },
      "execution_count": 14,
      "outputs": [
        {
          "output_type": "stream",
          "name": "stdout",
          "text": [
            "error: remote origin already exists.\n",
            "fatal: could not read Username for 'https://github.com': No such device or address\n"
          ]
        }
      ]
    },
    {
      "cell_type": "code",
      "source": [
        "!git remote rm origin\n"
      ],
      "metadata": {
        "id": "2vbKu2hSvrzs"
      },
      "execution_count": 19,
      "outputs": []
    },
    {
      "cell_type": "code",
      "source": [
        "!git remote add origin https://github.com/teena496/Medical-Insurance-Data-Visualization.git\n",
        "!git branch -M main\n",
        "!git push -u origin main"
      ],
      "metadata": {
        "colab": {
          "base_uri": "https://localhost:8080/"
        },
        "id": "kVFoPPZ3v8gP",
        "outputId": "1a42160b-c7e5-48e1-a29b-14e5d865637a"
      },
      "execution_count": 20,
      "outputs": [
        {
          "output_type": "stream",
          "name": "stdout",
          "text": [
            "fatal: could not read Username for 'https://github.com': No such device or address\n"
          ]
        }
      ]
    },
    {
      "cell_type": "code",
      "source": [
        "https://github.com/teena496/Medical-Insurance-Data-Visualization"
      ],
      "metadata": {
        "id": "_rPdnp-3xSyL"
      },
      "execution_count": null,
      "outputs": []
    },
    {
      "cell_type": "code",
      "source": [],
      "metadata": {
        "id": "-i8Zub9Zv_i0"
      },
      "execution_count": 23,
      "outputs": []
    },
    {
      "cell_type": "code",
      "source": [
        "%cd Medical-Insurance-Data-Visualization\n",
        "!git add .\n",
        "!git commit -m \"Add notebook from Colab\"\n",
        "!git push origin main\n",
        "\n"
      ],
      "metadata": {
        "colab": {
          "base_uri": "https://localhost:8080/"
        },
        "id": "E8BFRwk2xfNH",
        "outputId": "cdd9ac7b-3b22-4f76-e534-b699d311c7dd"
      },
      "execution_count": 24,
      "outputs": [
        {
          "output_type": "stream",
          "name": "stdout",
          "text": [
            "[Errno 2] No such file or directory: 'Medical-Insurance-Data-Visualization'\n",
            "/content/Medical-Insurance-Data-Visualization\n",
            "On branch main\n",
            "Your branch is based on 'origin/main', but the upstream is gone.\n",
            "  (use \"git branch --unset-upstream\" to fixup)\n",
            "\n",
            "nothing to commit, working tree clean\n",
            "Enumerating objects: 4, done.\n",
            "Counting objects: 100% (4/4), done.\n",
            "Delta compression using up to 2 threads\n",
            "Compressing objects: 100% (4/4), done.\n",
            "Writing objects: 100% (4/4), 17.22 KiB | 4.30 MiB/s, done.\n",
            "Total 4 (delta 0), reused 0 (delta 0), pack-reused 0\n",
            "remote: \u001b[1;31merror\u001b[m: GH013: Repository rule violations found for refs/heads/main.\u001b[K\n",
            "remote: \n",
            "remote: - GITHUB PUSH PROTECTION\u001b[K\n",
            "remote:   —————————————————————————————————————————\u001b[K\n",
            "remote:     Resolve the following violations before pushing again\u001b[K\n",
            "remote: \n",
            "remote:     - Push cannot contain secrets\u001b[K\n",
            "remote: \n",
            "remote:     \u001b[K\n",
            "remote:      (?) Learn how to resolve a blocked push\u001b[K\n",
            "remote:      https://docs.github.com/code-security/secret-scanning/working-with-secret-scanning-and-push-protection/working-with-push-protection-from-the-command-line#resolving-a-blocked-push\u001b[K\n",
            "remote:     \u001b[K\n",
            "remote:     \u001b[K\n",
            "remote:       —— GitHub Personal Access Token ——————————————————————\u001b[K\n",
            "remote:        locations:\u001b[K\n",
            "remote:          - commit: 476dc837e040d97684370c33aeccdf1770715417\u001b[K\n",
            "remote:            path: Medical_Insurance_Data_Visulization.ipynb:212\u001b[K\n",
            "remote:     \u001b[K\n",
            "remote:        (?) To push, remove secret from commit(s) or follow this URL to allow the secret.\u001b[K\n",
            "remote:        https://github.com/teena496/Medical-Insurance-Data-Visualization/security/secret-scanning/unblock-secret/2vRyol5GNdXJ1BToGar6zvkYXiQ\u001b[K\n",
            "remote:     \u001b[K\n",
            "remote: \n",
            "remote: \n",
            "To https://github.com/teena496/Medical-Insurance-Data-Visualization.git\n",
            " \u001b[31m! [remote rejected]\u001b[m main -> main (push declined due to repository rule violations)\n",
            "\u001b[31merror: failed to push some refs to 'https://github.com/teena496/Medical-Insurance-Data-Visualization.git'\n",
            "\u001b[m"
          ]
        }
      ]
    },
    {
      "cell_type": "code",
      "source": [],
      "metadata": {
        "id": "t_cHQ-iQyyGG"
      },
      "execution_count": null,
      "outputs": []
    }
  ]
}